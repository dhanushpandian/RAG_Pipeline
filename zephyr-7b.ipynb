{
  "nbformat": 4,
  "nbformat_minor": 0,
  "metadata": {
    "colab": {
      "provenance": [],
      "authorship_tag": "ABX9TyPBBhURns+v4aL5i0uxVVEv",
      "include_colab_link": true
    },
    "kernelspec": {
      "name": "python3",
      "display_name": "Python 3"
    },
    "language_info": {
      "name": "python"
    }
  },
  "cells": [
    {
      "cell_type": "markdown",
      "metadata": {
        "id": "view-in-github",
        "colab_type": "text"
      },
      "source": [
        "<a href=\"https://colab.research.google.com/github/dhanushpandian/RAG_Pipeline/blob/main/zephyr-7b.ipynb\" target=\"_parent\"><img src=\"https://colab.research.google.com/assets/colab-badge.svg\" alt=\"Open In Colab\"/></a>"
      ]
    },
    {
      "cell_type": "code",
      "source": [
        "!pip install openai\n"
      ],
      "metadata": {
        "id": "45JrZdRgk5wG"
      },
      "execution_count": null,
      "outputs": []
    },
    {
      "cell_type": "code",
      "execution_count": null,
      "metadata": {
        "id": "NfHKz24cNUV-"
      },
      "outputs": [],
      "source": [
        "!pip install langchain sentence-transformers chromadb"
      ]
    },
    {
      "cell_type": "code",
      "source": [
        "from langchain.document_loaders import WebBaseLoader\n",
        "from langchain.text_splitter import RecursiveCharacterTextSplitter\n",
        "from langchain.embeddings import HuggingFaceInferenceAPIEmbeddings\n",
        "from langchain.vectorstores import Chroma\n",
        "\n",
        "from langchain.llms import HuggingFaceHub\n",
        "from langchain.chains import RetrievalQA"
      ],
      "metadata": {
        "id": "02v9rXA3N9PW"
      },
      "execution_count": 41,
      "outputs": []
    },
    {
      "cell_type": "code",
      "source": [
        "import os\n",
        "from getpass import getpass\n",
        "HF_token=getpass()"
      ],
      "metadata": {
        "colab": {
          "base_uri": "https://localhost:8080/"
        },
        "id": "B4rpHKyWPClV",
        "outputId": "2646f8a7-33dd-465c-f93d-a8cc50a36390"
      },
      "execution_count": 24,
      "outputs": [
        {
          "name": "stdout",
          "output_type": "stream",
          "text": [
            "··········\n"
          ]
        }
      ]
    },
    {
      "cell_type": "code",
      "source": [
        "os.environ['HUGGINGFACE_API_TOKEN']=HF_token"
      ],
      "metadata": {
        "id": "keck8J-IPkjE"
      },
      "execution_count": 74,
      "outputs": []
    },
    {
      "cell_type": "code",
      "source": [
        "URL=\"https://dhanushpandian.co/\"\n"
      ],
      "metadata": {
        "id": "tXX9Tb5XPzgi"
      },
      "execution_count": 43,
      "outputs": []
    },
    {
      "cell_type": "code",
      "source": [
        "data=WebBaseLoader(URL)"
      ],
      "metadata": {
        "id": "G0u83WbFQEYL"
      },
      "execution_count": 44,
      "outputs": []
    },
    {
      "cell_type": "code",
      "source": [
        "content=data.load()\n",
        "print(content)"
      ],
      "metadata": {
        "colab": {
          "base_uri": "https://localhost:8080/"
        },
        "id": "OgSs5hCRQN9v",
        "outputId": "ec563f04-cf2b-4db1-de06-725d235a780a"
      },
      "execution_count": 45,
      "outputs": [
        {
          "output_type": "stream",
          "name": "stdout",
          "text": [
            "[Document(page_content=\"\\n\\n\\n\\n\\n\\nDhanush D - Portfolio\\n\\n\\n\\n\\nContact\\nAbout Me\\nSkills\\nEducation\\nInternships\\nProjects\\nAchievements\\nCertifications\\n\\n\\n\\nDhanush D\\n3rd Year B-Tech IT Student\\n\\n\\nContact Information\\nPhone: +91-6381206640\\nEmail: dhanushdpandian@gmail.com\\nWebsite: dhanushpandian.co\\nGithub: github.com/dhanushpandian\\nLinkedin: linkedin.com/in/dhanush-d-pandian-481306249\\nAddress: 381, 27th street, 6th sector, K.K.Nagar, Chennai - 600078.\\n\\n\\nAbout Me\\nAn Enthusiastic and dedicated pre-final year Information Technology student with a passion for technology and with a diverse skill set. Eager to contribute my knowledge and skills to dynamic projects while continuously expanding my understanding of emerging technologies.\\nLanguages Known\\nTamil, English, Hindi, Telugu\\nPersonality Traits\\nProblem Solving, Critical Thinking, Idea Visualization, Man-Management, Negotiation, Leadership.\\nHobbies\\nField Hockey (represented various institutions and clubs in state and national level tournaments).\\n\\n\\nTechnical Skills\\nProgramming Languages\\n\\nC\\nPython\\nJava\\nJavaScript / TypeScript\\nSQL (MySql, MSsql, Postgressql)\\n\\nOther Skills\\n\\nAWS Cloud Computing (EC2, RDS, S3, VPC, Lambda, CloudWatch, etc.)\\nPenetration Testing (Website vulnerability)\\n\\n\\n\\nEducation\\nRajalakshmi Engineering College (Thandalam)\\n\\nBachelor of Technology in Information Technology\\nGraduation: 2025\\nCurrent C.G.P.A: 7.7\\n\\nPSBB KK NAGAR SENIOR Secondary School (K.K.Nagar)\\n\\nCBSE SSLC (2019): 82%\\nCBSE Informatics Practices HSC (2021): 86%\\n\\n\\n\\nInternships and Experience\\nNoShack Solutions - Web Designer Intern\\n\\nOct 2022 - Jan 2023\\nChennai, Tamil Nadu, India · Hybrid\\nWorked on Wix Website Builder, Velo, and acquired Figma Ui/Ux designing skill during the internship.\\n\\nRane Madras Ltd (RML) - Junior Software Engineer Intern\\n\\nAug 2022 - Oct 2022\\nRane Company Chennai · On-site\\nCollaborated with my college's IIIC (Industrial Incubation Cell) to develop a website using Angular, Express, and MS-Sql for Digital Human Resource Management.\\n\\n\\n\\n\\nProjects\\n\\nCryptocurrency-to-Fiat Conversion Platform\\n\\nDeveloped a mobile application enabling cryptocurrency transactions with local vendors.\\nUtilized the Polygon-powered blockchain for secure storage.\\nIntegrated a hardware component, the CryptoSwift box, for real-time speech notifications to vendors.\\n\\n\\n\\nCar Damage Image Classifier - Ripik.AI Hackfest\\n\\nDeveloped an image classifier for categorizing car damages.\\nAimed to assist insurance companies in assessing claim legitimacy.\\nUtilized skills in image classification and machine learning.\\n\\n\\n\\nMedi-Bot - Healthcare Automation\\n\\nDeveloped an innovative system for senior medication management using Robotic Process Automation (RPA).\\nOperates on a monthly basis, autonomously ordering crucial medications to eliminate manual intervention.\\nImplemented triggers-based scheduling facilitated by an RPA orchestrator for precise and timely medication orders.\\n\\n\\n\\nPortfolio Website\\n\\nCreated a responsive portfolio website using Next.js and Tailwind CSS.\\nShowcased skills, projects, and achievements in an elegant design.\\nDependencies include Next.js, Tailwind CSS, React, React Icons, TypeScript, and more.\\n\\n\\n\\nVisual Search Engine\\n\\nImplemented dual classification leveraging Hugging Face inference and a bespoke model for deeper insights.\\nUtilized Next.js, TensorFlow, Keras, OpenAPI 4, Express, Flask, and MongoDB in the tech stack.\\n\\n\\n\\nCustomer Attrition Prediction\\n\\nContributed to a Streamlit web application predicting customer attrition using Logistic Regression and K-Means Clustering.\\nImplemented with Python, Spark, and various data science libraries.\\nUtilized Docker for containerization.\\n\\n\\n\\nSIH1460 - AICTE Skills Assessment Program\\n\\nContributed to the development of a web-based adaptive multiple-choice question (MCQ) testing system.\\nFocused on assessing and improving the skills of engineering students in India.\\nEmployed an adaptive algorithm analyzing user responses, time spent on questions, and performance data.\\nIntegrated AI-based question generation for precise assessments.\\n\\n\\n\\nAir Pollution Data Visualization\\n\\nVisualized air pollution data to infer the relation between pollution, population density, and weather.\\nUsed Power BI and Excel for data analysis and visualization.\\nExamined the impact of pollution on population density and weather conditions.\\n\\n\\n\\n\\n\\nAchievements\\n\\nFinalists (top 10 web3) in PECHACKS 36hr hackathon conducted by Major League Hacking and Panimalar Engineering college.\\nParticipated in Ripik.AI Hackfest conducted by Analytics Vidhya and got a ranking of 80/3536.\\nWon 2nd place at HackOverflow v3 24hr hackathon, organized by Rajalakshmi Engineering College.\\nCoordinated the Data Dash event at Design Summit 2k23 conducted by Rajalakshmi Engineering College.\\n\\n\\n\\n\\nCertifications\\n\\nAWS Academy Cloud Architecting (Solutions Architect).\\nCloud and Virtualization Concepts from VMware.\\nPython For Data Science course in NPTEL.\\nUiPath Robotic Process Automation (RPA).\\nWebsite Hacking / Penetration Testing from Udemy.\\nIndustrial Training program on Data Analytics with TVS T&S.\\nBoston IT Solutions workshop on MLOps with ML-Flow.\\n\\n\\n\\n\\n\\n\", metadata={'source': 'https://dhanushpandian.co/', 'title': 'Dhanush D - Portfolio', 'language': 'en'})]\n"
          ]
        }
      ]
    },
    {
      "cell_type": "code",
      "source": [
        "#chunking\n",
        "text_splitter=RecursiveCharacterTextSplitter(chunk_size=256,chunk_overlap=0)\n",
        "chunking=text_splitter.split_documents(content)"
      ],
      "metadata": {
        "id": "2CEd__u0QaEJ"
      },
      "execution_count": 69,
      "outputs": []
    },
    {
      "cell_type": "code",
      "source": [
        "embeddings=HuggingFaceInferenceAPIEmbeddings(\n",
        "    api_key=HF_token,\n",
        "    model_name='BAAI/bge-base-en-v1.5'\n",
        ")"
      ],
      "metadata": {
        "id": "k0sC1lWFRBcK"
      },
      "execution_count": 75,
      "outputs": []
    },
    {
      "cell_type": "code",
      "source": [
        "vectorstore=Chroma.from_documents(chunking,embeddings)"
      ],
      "metadata": {
        "id": "MR-grWQXR3lI"
      },
      "execution_count": 71,
      "outputs": []
    },
    {
      "cell_type": "code",
      "source": [
        "model = HuggingFaceHub(repo_id=\"HuggingFaceH4/zephyr-7b-alpha\",\n",
        "                      huggingfacehub_api_token=HF_token,\n",
        "                     model_kwargs={\"temperature\":0.5,\"max_new_tokens\":512,\"max_length\":64})\n",
        "\n"
      ],
      "metadata": {
        "id": "8aCb0fqtSHF5"
      },
      "execution_count": 79,
      "outputs": []
    },
    {
      "cell_type": "code",
      "source": [
        "retriver=vectorstore.as_retriever(search_type=\"mmr\",search_kwargs={\"k\":1})"
      ],
      "metadata": {
        "id": "YrC6kgWBoEyc"
      },
      "execution_count": 86,
      "outputs": []
    },
    {
      "cell_type": "code",
      "source": [
        "query=\"contact\"\n",
        "docs_rel=retriver.get_relevant_documents(query)\n",
        "print(docs_rel)"
      ],
      "metadata": {
        "colab": {
          "base_uri": "https://localhost:8080/"
        },
        "id": "Jzfbi78MoheF",
        "outputId": "c3321b45-db1e-4ca7-a00e-25dafae04aee"
      },
      "execution_count": 87,
      "outputs": [
        {
          "output_type": "stream",
          "name": "stdout",
          "text": [
            "[Document(page_content='Contact Information\\nPhone: +91-6381206640\\nEmail: dhanushdpandian@gmail.com\\nWebsite: dhanushpandian.co\\nGithub: github.com/dhanushpandian\\nLinkedin: linkedin.com/in/dhanush-d-pandian-481306249', metadata={'language': 'en', 'source': 'https://dhanushpandian.co/', 'title': 'Dhanush D - Portfolio'})]\n"
          ]
        }
      ]
    },
    {
      "cell_type": "code",
      "source": [
        "qa=RetrievalQA.from_chain_type(llm=model,\n",
        "                               retriever=retriver,\n",
        "                               chain_type=\"refine\")"
      ],
      "metadata": {
        "id": "VPuLIuB6o-mJ"
      },
      "execution_count": 89,
      "outputs": []
    },
    {
      "cell_type": "code",
      "source": [
        "q=\"list the projects dhanush has worked on?\""
      ],
      "metadata": {
        "id": "QK5jf_FKqYyp"
      },
      "execution_count": 100,
      "outputs": []
    },
    {
      "cell_type": "code",
      "source": [
        "prompt=f\"\"\"\n",
        "<|system|>\n",
        "You are a AI assistant that follows instructions extremely well , Please be truthful and give direct answers\n",
        "</s>\n",
        "<|user|>\n",
        "{q}\n",
        "</s>\n",
        "<|assistant|>\n",
        "\"\"\""
      ],
      "metadata": {
        "id": "HDempCR5pkA1"
      },
      "execution_count": 101,
      "outputs": []
    },
    {
      "cell_type": "code",
      "source": [
        "response=qa(prompt)"
      ],
      "metadata": {
        "id": "yCvzetkgqqOU"
      },
      "execution_count": 102,
      "outputs": []
    },
    {
      "cell_type": "code",
      "source": [
        "print(response['result'])"
      ],
      "metadata": {
        "colab": {
          "base_uri": "https://localhost:8080/"
        },
        "id": "dmV1gNuSq3tr",
        "outputId": "e3465b21-4e58-4525-97e1-475a139ccb27"
      },
      "execution_count": 103,
      "outputs": [
        {
          "output_type": "stream",
          "name": "stdout",
          "text": [
            "Context information is below. \n",
            "------------\n",
            "Dhanush D - Portfolio\n",
            "\n",
            "\n",
            "\n",
            "\n",
            "Contact\n",
            "About Me\n",
            "Skills\n",
            "Education\n",
            "Internships\n",
            "Projects\n",
            "Achievements\n",
            "Certifications\n",
            "\n",
            "\n",
            "\n",
            "Dhanush D\n",
            "3rd Year B-Tech IT Student\n",
            "------------\n",
            "Given the context information and not prior knowledge, answer the question: \n",
            "<|system|>\n",
            "You are a AI assistant that follows instructions extremely well , Please be truthful and give direct answers\n",
            "</s>\n",
            "<|user|>\n",
            "list the projects dhanush has worked on?\n",
            "</s>\n",
            "<|assistant|>\n",
            "\n",
            "I do not have access to the specific projects worked on by dhanush d. however, according to his portfolio, he has worked on projects such as:\n",
            "\n",
            "1. weather forecasting system using python and flask\n",
            "2. sentiment analysis system using python and tensorflow\n",
            "3. e-commerce website using django and postgresql\n",
            "4. stock price prediction system using python and keras\n",
            "5. web scraping tool using python and scrapy\n",
            "6. social media analytics tool using python and tweepy\n",
            "\n",
            "these are just a few examples, and there may be other projects that dhanush d has worked on that are not listed in his portfolio.\n"
          ]
        }
      ]
    }
  ]
}